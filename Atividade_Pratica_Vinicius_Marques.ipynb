{
  "nbformat": 4,
  "nbformat_minor": 0,
  "metadata": {
    "colab": {
      "provenance": []
    },
    "kernelspec": {
      "name": "python3",
      "display_name": "Python 3"
    },
    "language_info": {
      "name": "python"
    }
  },
  "cells": [
    {
      "cell_type": "code",
      "source": [],
      "metadata": {
        "id": "kyhkDIcGvWDM"
      },
      "execution_count": null,
      "outputs": []
    },
    {
      "cell_type": "code",
      "execution_count": 30,
      "metadata": {
        "colab": {
          "base_uri": "https://localhost:8080/"
        },
        "id": "x44CjmJJO6Lp",
        "outputId": "23abc4d7-302d-4b46-c6b5-e4ed2876a2ce"
      },
      "outputs": [
        {
          "output_type": "stream",
          "name": "stdout",
          "text": [
            "Precisão; 0.776536312849162\n"
          ]
        },
        {
          "output_type": "stream",
          "name": "stderr",
          "text": [
            "<ipython-input-30-f8248fbd2534>:14: SettingWithCopyWarning: \n",
            "A value is trying to be set on a copy of a slice from a DataFrame.\n",
            "Try using .loc[row_indexer,col_indexer] = value instead\n",
            "\n",
            "See the caveats in the documentation: https://pandas.pydata.org/pandas-docs/stable/user_guide/indexing.html#returning-a-view-versus-a-copy\n",
            "  X['Sex'] = X['Sex'].map({'male':0, 'female':1})\n"
          ]
        }
      ],
      "source": [
        "# prompt: leia o arquivo titanic.csv\n",
        "\n",
        "import pandas as pd\n",
        "from sklearn.model_selection import train_test_split\n",
        "\n",
        "df = pd.read_csv('titanic.csv')\n",
        "\n",
        "# Print the first few rows of the DataFrame\n",
        "df.head()\n",
        "\n",
        "features = ['Pclass','Sex','Age','Fare','SibSp','Parch']\n",
        "\n",
        "X = df[features]#selecionando os atributos\n",
        "X['Sex'] = X['Sex'].map({'male':0, 'female':1})\n",
        "Y = df['Survived']\n",
        "X = X.fillna(X.mean()) #trocando dados corrompidos pela média da coluna\n",
        "X_train,X_test,Y_train, y_test = train_test_split(X,Y, test_size=0.2,random_state=42)\n",
        "\n",
        "from sklearn.tree import DecisionTreeClassifier\n",
        "from sklearn.tree import export_text\n",
        "from sklearn.metrics import accuracy_score\n",
        "\n",
        "#criando o classificiador\n",
        "decision_tree_classifier = DecisionTreeClassifier()\n",
        "\n",
        "decision_tree_classifier.fit(X_train, Y_train)\n",
        "\n",
        "tree_rules = export_text(decision_tree_classifier,\n",
        "                         feature_names=features)\n",
        "#print(tree_rules)\n",
        "predictions = decision_tree_classifier.predict(X_test)\n",
        "accuracy = accuracy_score(y_test, predictions)\n",
        "print(\"Precisão;\", accuracy)\n"
      ]
    },
    {
      "cell_type": "markdown",
      "source": [
        "Classificador Árvore"
      ],
      "metadata": {
        "id": "Tmp2JdAvvYI7"
      }
    },
    {
      "cell_type": "markdown",
      "source": [],
      "metadata": {
        "id": "qwl0aFzevUnh"
      }
    },
    {
      "cell_type": "code",
      "source": [
        "from sklearn.tree import DecisionTreeClassifier\n",
        "from sklearn.tree import export_text\n",
        "from sklearn.metrics import accuracy_score\n",
        "\n",
        "#criando o classificiador\n",
        "decision_tree_classifier = DecisionTreeClassifier()\n",
        "\n",
        "decision_tree_classifier.fit(X_train, Y_train)\n",
        "\n",
        "tree_rules = export_text(decision_tree_classifier,\n",
        "                         feature_names=features)\n",
        "#print(tree_rules)\n",
        "predictions = decision_tree_classifier.predict(X_test)\n",
        "accuracy = accuracy_score(y_test, predictions)\n",
        "print(\"Precisão;\", accuracy)"
      ],
      "metadata": {
        "colab": {
          "base_uri": "https://localhost:8080/"
        },
        "id": "EapR7t8Ilobn",
        "outputId": "31fca936-d2aa-4856-f3a2-d6825436e7aa"
      },
      "execution_count": 31,
      "outputs": [
        {
          "output_type": "stream",
          "name": "stdout",
          "text": [
            "Precisão; 0.7653631284916201\n"
          ]
        }
      ]
    },
    {
      "cell_type": "code",
      "source": [
        "from sklearn.neural_network import MLPClassifier\n",
        "from sklearn.metrics import accuracy_score\n",
        "mlp = MLPClassifier(hidden_layer_sizes=(10,5)\n",
        "                    ,max_iter=1000, random_state=42)\n",
        "mlp.fit(X_train,Y_train)\n",
        "predictions = mlp.predict(X_test)\n",
        "accuracy = accuracy_score(y_test, predictions)\n",
        "print(\"Precisão;\", accuracy)"
      ],
      "metadata": {
        "colab": {
          "base_uri": "https://localhost:8080/"
        },
        "id": "AcGNqMymvhSj",
        "outputId": "f5d56b58-f018-4d89-e88c-5b59aec877d0"
      },
      "execution_count": 38,
      "outputs": [
        {
          "output_type": "stream",
          "name": "stdout",
          "text": [
            "Precisão; 0.8044692737430168\n"
          ]
        }
      ]
    }
  ]
}